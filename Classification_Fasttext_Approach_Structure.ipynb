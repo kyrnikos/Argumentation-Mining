{
 "cells": [
  {
   "cell_type": "code",
   "execution_count": 1,
   "metadata": {},
   "outputs": [
    {
     "name": "stdout",
     "output_type": "stream",
     "text": [
      "Dataset length: 1014 abstracts\n"
     ]
    },
    {
     "data": {
      "text/html": [
       "<div>\n",
       "<style scoped>\n",
       "    .dataframe tbody tr th:only-of-type {\n",
       "        vertical-align: middle;\n",
       "    }\n",
       "\n",
       "    .dataframe tbody tr th {\n",
       "        vertical-align: top;\n",
       "    }\n",
       "\n",
       "    .dataframe thead th {\n",
       "        text-align: right;\n",
       "    }\n",
       "</style>\n",
       "<table border=\"1\" class=\"dataframe\">\n",
       "  <thead>\n",
       "    <tr style=\"text-align: right;\">\n",
       "      <th></th>\n",
       "      <th>document</th>\n",
       "      <th>sentences</th>\n",
       "      <th>labels</th>\n",
       "    </tr>\n",
       "  </thead>\n",
       "  <tbody>\n",
       "    <tr>\n",
       "      <th>588</th>\n",
       "      <td>doi: 10.1093/ajh/hpx157</td>\n",
       "      <td>[ECG Voltage in Relation to Peripheral and Cen...</td>\n",
       "      <td>[NEITHER, BACKGROUND, BACKGROUND, METHOD, RESU...</td>\n",
       "    </tr>\n",
       "    <tr>\n",
       "      <th>346</th>\n",
       "      <td>doi: 10.1029/2017rg000593</td>\n",
       "      <td>[Remote Sensing of Droplet Number Concentratio...</td>\n",
       "      <td>[NEITHER, OBJECTIVE, BACKGROUND, METHOD, RESUL...</td>\n",
       "    </tr>\n",
       "    <tr>\n",
       "      <th>42</th>\n",
       "      <td>doi: 10.1002/chem.201901726</td>\n",
       "      <td>[Establishing Communication Between Artificial...</td>\n",
       "      <td>[NEITHER, BACKGROUND, BACKGROUND, METHOD, OBJE...</td>\n",
       "    </tr>\n",
       "    <tr>\n",
       "      <th>123</th>\n",
       "      <td>doi: 10.1007/s40120-019-00168-1</td>\n",
       "      <td>[Salivary Biomarkers for Alzheimer’s Disease a...</td>\n",
       "      <td>[NEITHER, BACKGROUND, BACKGROUND, BACKGROUND, ...</td>\n",
       "    </tr>\n",
       "    <tr>\n",
       "      <th>308</th>\n",
       "      <td>doi: 10.1021/acs.jpclett.8b03066</td>\n",
       "      <td>[The Fate of Water at the Electrochemical Inte...</td>\n",
       "      <td>[NEITHER, BACKGROUND, BACKGROUND, BACKGROUND, ...</td>\n",
       "    </tr>\n",
       "  </tbody>\n",
       "</table>\n",
       "</div>"
      ],
      "text/plain": [
       "                             document  \\\n",
       "588           doi: 10.1093/ajh/hpx157   \n",
       "346         doi: 10.1029/2017rg000593   \n",
       "42        doi: 10.1002/chem.201901726   \n",
       "123   doi: 10.1007/s40120-019-00168-1   \n",
       "308  doi: 10.1021/acs.jpclett.8b03066   \n",
       "\n",
       "                                             sentences  \\\n",
       "588  [ECG Voltage in Relation to Peripheral and Cen...   \n",
       "346  [Remote Sensing of Droplet Number Concentratio...   \n",
       "42   [Establishing Communication Between Artificial...   \n",
       "123  [Salivary Biomarkers for Alzheimer’s Disease a...   \n",
       "308  [The Fate of Water at the Electrochemical Inte...   \n",
       "\n",
       "                                                labels  \n",
       "588  [NEITHER, BACKGROUND, BACKGROUND, METHOD, RESU...  \n",
       "346  [NEITHER, OBJECTIVE, BACKGROUND, METHOD, RESUL...  \n",
       "42   [NEITHER, BACKGROUND, BACKGROUND, METHOD, OBJE...  \n",
       "123  [NEITHER, BACKGROUND, BACKGROUND, BACKGROUND, ...  \n",
       "308  [NEITHER, BACKGROUND, BACKGROUND, BACKGROUND, ...  "
      ]
     },
     "execution_count": 1,
     "metadata": {},
     "output_type": "execute_result"
    }
   ],
   "source": [
    "#CODE FOR LOADING THE DATASET \"dataset_aueb_structure_v2.json\"\n",
    "import json\n",
    "import pandas as pd\n",
    "\n",
    "label2id = {\n",
    "    'NONE': 0,\n",
    "    'EVIDENCE': 1,\n",
    "    'CLAIM': 2}\n",
    "\n",
    "def load_corpus(path, label_mapping=None):\n",
    "    with open(path) as fp:\n",
    "        corpus = json.load(fp)\n",
    "\n",
    "    documents, texts, labels = [], [], []\n",
    "    for abstract in corpus:\n",
    "        documents.append(abstract)\n",
    "        texts.append(corpus[abstract]['sentences'])\n",
    "        if isinstance(label_mapping, dict):\n",
    "            labels.append(\n",
    "                [label_mapping[str(l).upper()]\n",
    "                    for l in corpus[abstract]['labels']])\n",
    "        else:\n",
    "            labels.append([str(l).upper() for l in corpus[abstract]['labels']])\n",
    "\n",
    "    assert len(texts) == len(labels)\n",
    "    data = pd.DataFrame(\n",
    "        zip(documents, texts, labels),\n",
    "        columns=['document', 'sentences', 'labels'])\n",
    "\n",
    "    return data\n",
    "\n",
    "data = load_corpus('dataset_aueb_structure_v2.json') #, label_mapping=label2id)\n",
    "print(f'Dataset length: {len(data)} abstracts')\n",
    "data.sample(5)"
   ]
  },
  {
   "cell_type": "code",
   "execution_count": 2,
   "metadata": {},
   "outputs": [],
   "source": [
    "# splitting in train-validation-test sets\n",
    "from sklearn.model_selection import train_test_split"
   ]
  },
  {
   "cell_type": "code",
   "execution_count": 3,
   "metadata": {},
   "outputs": [
    {
     "data": {
      "text/html": [
       "<div>\n",
       "<style scoped>\n",
       "    .dataframe tbody tr th:only-of-type {\n",
       "        vertical-align: middle;\n",
       "    }\n",
       "\n",
       "    .dataframe tbody tr th {\n",
       "        vertical-align: top;\n",
       "    }\n",
       "\n",
       "    .dataframe thead th {\n",
       "        text-align: right;\n",
       "    }\n",
       "</style>\n",
       "<table border=\"1\" class=\"dataframe\">\n",
       "  <thead>\n",
       "    <tr style=\"text-align: right;\">\n",
       "      <th></th>\n",
       "      <th>doc_id</th>\n",
       "      <th>sentence</th>\n",
       "    </tr>\n",
       "  </thead>\n",
       "  <tbody>\n",
       "    <tr>\n",
       "      <th>0</th>\n",
       "      <td>0</td>\n",
       "      <td>Concordance Between Different Amyloid Immunoas...</td>\n",
       "    </tr>\n",
       "    <tr>\n",
       "      <th>1</th>\n",
       "      <td>0</td>\n",
       "      <td>Importance Visual assessment of amyloid positr...</td>\n",
       "    </tr>\n",
       "    <tr>\n",
       "      <th>2</th>\n",
       "      <td>0</td>\n",
       "      <td>Several immunoassays have been developed to me...</td>\n",
       "    </tr>\n",
       "    <tr>\n",
       "      <th>3</th>\n",
       "      <td>0</td>\n",
       "      <td>The agreement between CSF Aβ42 measures from d...</td>\n",
       "    </tr>\n",
       "    <tr>\n",
       "      <th>4</th>\n",
       "      <td>0</td>\n",
       "      <td>Objective To determine the concordance between...</td>\n",
       "    </tr>\n",
       "    <tr>\n",
       "      <th>...</th>\n",
       "      <td>...</td>\n",
       "      <td>...</td>\n",
       "    </tr>\n",
       "    <tr>\n",
       "      <th>10543</th>\n",
       "      <td>1013</td>\n",
       "      <td>Instead, SBPs sample a range of conformations ...</td>\n",
       "    </tr>\n",
       "    <tr>\n",
       "      <th>10544</th>\n",
       "      <td>1013</td>\n",
       "      <td>Certain non-transported ligands leave the stru...</td>\n",
       "    </tr>\n",
       "    <tr>\n",
       "      <th>10545</th>\n",
       "      <td>1013</td>\n",
       "      <td>Intriguingly, in some cases, similar SBP confo...</td>\n",
       "    </tr>\n",
       "    <tr>\n",
       "      <th>10546</th>\n",
       "      <td>1013</td>\n",
       "      <td>In this case, the inability for transport aris...</td>\n",
       "    </tr>\n",
       "    <tr>\n",
       "      <th>10547</th>\n",
       "      <td>1013</td>\n",
       "      <td>Our results reveal the complex interplay betwe...</td>\n",
       "    </tr>\n",
       "  </tbody>\n",
       "</table>\n",
       "<p>10548 rows × 2 columns</p>\n",
       "</div>"
      ],
      "text/plain": [
       "       doc_id                                           sentence\n",
       "0           0  Concordance Between Different Amyloid Immunoas...\n",
       "1           0  Importance Visual assessment of amyloid positr...\n",
       "2           0  Several immunoassays have been developed to me...\n",
       "3           0  The agreement between CSF Aβ42 measures from d...\n",
       "4           0  Objective To determine the concordance between...\n",
       "...       ...                                                ...\n",
       "10543    1013  Instead, SBPs sample a range of conformations ...\n",
       "10544    1013  Certain non-transported ligands leave the stru...\n",
       "10545    1013  Intriguingly, in some cases, similar SBP confo...\n",
       "10546    1013  In this case, the inability for transport aris...\n",
       "10547    1013  Our results reveal the complex interplay betwe...\n",
       "\n",
       "[10548 rows x 2 columns]"
      ]
     },
     "execution_count": 3,
     "metadata": {},
     "output_type": "execute_result"
    }
   ],
   "source": [
    "#Explode to sentences\n",
    "sentences = data['sentences'].explode().reset_index().rename(\n",
    "    columns={'index': 'doc_id', 'sentences': 'sentence'})\n",
    "sentences"
   ]
  },
  {
   "cell_type": "code",
   "execution_count": 4,
   "metadata": {},
   "outputs": [
    {
     "data": {
      "text/html": [
       "<div>\n",
       "<style scoped>\n",
       "    .dataframe tbody tr th:only-of-type {\n",
       "        vertical-align: middle;\n",
       "    }\n",
       "\n",
       "    .dataframe tbody tr th {\n",
       "        vertical-align: top;\n",
       "    }\n",
       "\n",
       "    .dataframe thead th {\n",
       "        text-align: right;\n",
       "    }\n",
       "</style>\n",
       "<table border=\"1\" class=\"dataframe\">\n",
       "  <thead>\n",
       "    <tr style=\"text-align: right;\">\n",
       "      <th></th>\n",
       "      <th>doc_id</th>\n",
       "      <th>label</th>\n",
       "    </tr>\n",
       "  </thead>\n",
       "  <tbody>\n",
       "    <tr>\n",
       "      <th>0</th>\n",
       "      <td>0</td>\n",
       "      <td>NEITHER</td>\n",
       "    </tr>\n",
       "    <tr>\n",
       "      <th>1</th>\n",
       "      <td>0</td>\n",
       "      <td>BACKGROUND</td>\n",
       "    </tr>\n",
       "    <tr>\n",
       "      <th>2</th>\n",
       "      <td>0</td>\n",
       "      <td>BACKGROUND</td>\n",
       "    </tr>\n",
       "    <tr>\n",
       "      <th>3</th>\n",
       "      <td>0</td>\n",
       "      <td>BACKGROUND</td>\n",
       "    </tr>\n",
       "    <tr>\n",
       "      <th>4</th>\n",
       "      <td>0</td>\n",
       "      <td>OBJECTIVE</td>\n",
       "    </tr>\n",
       "    <tr>\n",
       "      <th>...</th>\n",
       "      <td>...</td>\n",
       "      <td>...</td>\n",
       "    </tr>\n",
       "    <tr>\n",
       "      <th>10543</th>\n",
       "      <td>1013</td>\n",
       "      <td>METHOD</td>\n",
       "    </tr>\n",
       "    <tr>\n",
       "      <th>10544</th>\n",
       "      <td>1013</td>\n",
       "      <td>RESULT</td>\n",
       "    </tr>\n",
       "    <tr>\n",
       "      <th>10545</th>\n",
       "      <td>1013</td>\n",
       "      <td>RESULT</td>\n",
       "    </tr>\n",
       "    <tr>\n",
       "      <th>10546</th>\n",
       "      <td>1013</td>\n",
       "      <td>RESULT</td>\n",
       "    </tr>\n",
       "    <tr>\n",
       "      <th>10547</th>\n",
       "      <td>1013</td>\n",
       "      <td>CONCLUSION</td>\n",
       "    </tr>\n",
       "  </tbody>\n",
       "</table>\n",
       "<p>10548 rows × 2 columns</p>\n",
       "</div>"
      ],
      "text/plain": [
       "       doc_id       label\n",
       "0           0     NEITHER\n",
       "1           0  BACKGROUND\n",
       "2           0  BACKGROUND\n",
       "3           0  BACKGROUND\n",
       "4           0   OBJECTIVE\n",
       "...       ...         ...\n",
       "10543    1013      METHOD\n",
       "10544    1013      RESULT\n",
       "10545    1013      RESULT\n",
       "10546    1013      RESULT\n",
       "10547    1013  CONCLUSION\n",
       "\n",
       "[10548 rows x 2 columns]"
      ]
     },
     "execution_count": 4,
     "metadata": {},
     "output_type": "execute_result"
    }
   ],
   "source": [
    "#Explode to the corresponding labels\n",
    "labels = data['labels'].explode().reset_index().rename(\n",
    "    columns={'index': 'doc_id', 'labels': 'label'})\n",
    "labels"
   ]
  },
  {
   "cell_type": "code",
   "execution_count": 5,
   "metadata": {},
   "outputs": [],
   "source": [
    "#we drop the doc_id column as it is not needed\n",
    "labels = labels.drop(['doc_id'],axis =1)\n",
    "sentences = sentences.drop(['doc_id'],axis =1)"
   ]
  },
  {
   "cell_type": "code",
   "execution_count": 6,
   "metadata": {},
   "outputs": [],
   "source": [
    "#we concatenate the 2 data frames into one\n",
    "df = pd.concat([sentences,labels], axis =1, sort = False)"
   ]
  },
  {
   "cell_type": "code",
   "execution_count": 7,
   "metadata": {},
   "outputs": [],
   "source": [
    "import nltk"
   ]
  },
  {
   "cell_type": "code",
   "execution_count": 8,
   "metadata": {},
   "outputs": [],
   "source": [
    "#Performing some very basic tokenization to extract STOPWORDS and COMMONWORDS from the train-validation data frame"
   ]
  },
  {
   "cell_type": "code",
   "execution_count": 9,
   "metadata": {},
   "outputs": [
    {
     "data": {
      "text/html": [
       "<div>\n",
       "<style scoped>\n",
       "    .dataframe tbody tr th:only-of-type {\n",
       "        vertical-align: middle;\n",
       "    }\n",
       "\n",
       "    .dataframe tbody tr th {\n",
       "        vertical-align: top;\n",
       "    }\n",
       "\n",
       "    .dataframe thead th {\n",
       "        text-align: right;\n",
       "    }\n",
       "</style>\n",
       "<table border=\"1\" class=\"dataframe\">\n",
       "  <thead>\n",
       "    <tr style=\"text-align: right;\">\n",
       "      <th></th>\n",
       "      <th>sentence</th>\n",
       "      <th>label</th>\n",
       "    </tr>\n",
       "  </thead>\n",
       "  <tbody>\n",
       "    <tr>\n",
       "      <th>0</th>\n",
       "      <td>concordance between different amyloid immunoas...</td>\n",
       "      <td>NEITHER</td>\n",
       "    </tr>\n",
       "    <tr>\n",
       "      <th>1</th>\n",
       "      <td>importance visual assessment of amyloid positr...</td>\n",
       "      <td>BACKGROUND</td>\n",
       "    </tr>\n",
       "    <tr>\n",
       "      <th>2</th>\n",
       "      <td>several immunoassays have been developed to me...</td>\n",
       "      <td>BACKGROUND</td>\n",
       "    </tr>\n",
       "    <tr>\n",
       "      <th>3</th>\n",
       "      <td>the agreement between csf aβ42 measures from d...</td>\n",
       "      <td>BACKGROUND</td>\n",
       "    </tr>\n",
       "    <tr>\n",
       "      <th>4</th>\n",
       "      <td>objective to determine the concordance between...</td>\n",
       "      <td>OBJECTIVE</td>\n",
       "    </tr>\n",
       "  </tbody>\n",
       "</table>\n",
       "</div>"
      ],
      "text/plain": [
       "                                            sentence       label\n",
       "0  concordance between different amyloid immunoas...     NEITHER\n",
       "1  importance visual assessment of amyloid positr...  BACKGROUND\n",
       "2  several immunoassays have been developed to me...  BACKGROUND\n",
       "3  the agreement between csf aβ42 measures from d...  BACKGROUND\n",
       "4  objective to determine the concordance between...   OBJECTIVE"
      ]
     },
     "execution_count": 9,
     "metadata": {},
     "output_type": "execute_result"
    }
   ],
   "source": [
    "# converting all sentences to lowercase and replacing the \".\" with \" \"\n",
    "#removing ' ' at the beginning or the end of each sentence\n",
    "df['sentence'] = df['sentence'].str.lower().str.replace('.', ' ', regex=False).str.strip()\n",
    "df.head()"
   ]
  },
  {
   "cell_type": "code",
   "execution_count": 10,
   "metadata": {},
   "outputs": [
    {
     "name": "stdout",
     "output_type": "stream",
     "text": [
      "concordance between different amyloid immunoassays and visual amyloid positron emission tomographic assessment importance visual assessment of amyloid positron emission tomographic (pet) images has been approved by regulatory authorities for clinical use several immunoassays have been developed to measure β-amyloid (aβ) 42 in cerebrospinal fluid (csf) the agreement between csf aβ42 measures from different immunoassays and visual pet readings may influence the use of csf biomarkers and/or amyloid pet assessment in clinical practice and trials objective to determine the concordance between csf aβ42 levels measured using 5 different immunoassays and visual amyloid pet analysis design, setting, and participants the study included 262 patients with mild cognitive impairment or subjective cognitive decline from the swedish biofinder (biomarkers for identifying neurodegenerative disorders early and reliably) cohort (recruited from september 1, 2010, through december 31, 2014) who had undergon\n"
     ]
    }
   ],
   "source": [
    "# Concatenating all sentences into one text.\n",
    "one_text = \" \".join(df['sentence'])\n",
    "print(one_text[:1000])"
   ]
  },
  {
   "cell_type": "code",
   "execution_count": 11,
   "metadata": {},
   "outputs": [],
   "source": [
    "from collections import Counter"
   ]
  },
  {
   "cell_type": "code",
   "execution_count": 12,
   "metadata": {},
   "outputs": [
    {
     "data": {
      "text/plain": [
       "[('the', 11384),\n",
       " ('of', 9273),\n",
       " ('and', 8461),\n",
       " ('in', 6171),\n",
       " ('to', 4484),\n",
       " ('a', 3782),\n",
       " ('with', 2555),\n",
       " ('for', 2401),\n",
       " ('is', 2033),\n",
       " ('we', 1677),\n",
       " ('that', 1635),\n",
       " ('by', 1501),\n",
       " ('on', 1305),\n",
       " ('as', 1264),\n",
       " ('are', 1206),\n",
       " ('from', 1123),\n",
       " ('this', 1059),\n",
       " ('were', 880),\n",
       " ('an', 844),\n",
       " ('was', 811)]"
      ]
     },
     "execution_count": 12,
     "metadata": {},
     "output_type": "execute_result"
    }
   ],
   "source": [
    "#we find the most common words\n",
    "top_words = Counter(one_text.split()).most_common()\n",
    "top_words[:20]"
   ]
  },
  {
   "cell_type": "code",
   "execution_count": 13,
   "metadata": {},
   "outputs": [
    {
     "name": "stdout",
     "output_type": "stream",
     "text": [
      "['0', '1', '2', '3', '=', 'a', 'after', 'all', 'also', 'an', 'analysis', 'and', 'are', 'as', 'associated', 'at', 'based', 'be', 'been', 'between', 'blood', 'both', 'but', 'by', 'can', 'cell', 'cells', 'change', 'changes', 'climate', 'clinical', 'compared', 'data', 'different', 'disease', 'during', 'effects', 'for', 'from', 'genetic', 'global', 'has', 'have', 'high', 'higher', 'however,', 'human', 'in', 'increased', 'into', 'is', 'it', 'its', 'large', 'levels', 'liver', 'may', 'methods', 'model', 'models', 'more', 'most', 'new', 'not', 'of', 'on', 'only', 'or', 'other', 'our', 'over', 'p', 'patients', 'potential', 'protein', 'response', 'results', 'risk', 'show', 'studies', 'study', 'such', 'than', 'that', 'the', 'their', 'these', 'this', 'to', 'treatment', 'two', 'use', 'used', 'using', 'was', 'we', 'well', 'were', 'which', 'with']\n"
     ]
    }
   ],
   "source": [
    "# Printing the top 100 most common words \n",
    "print(sorted([i[0].lower() for i in top_words[:100]]))"
   ]
  },
  {
   "cell_type": "code",
   "execution_count": 14,
   "metadata": {},
   "outputs": [],
   "source": [
    "#we also use the english stop words from the nltk library\n",
    "from nltk.corpus import stopwords\n",
    "stop = stopwords.words('english')"
   ]
  },
  {
   "cell_type": "code",
   "execution_count": 15,
   "metadata": {},
   "outputs": [],
   "source": [
    "#we combine stop words and most common used words into a list in order to later remove them from our data frame.\n",
    "most_common = top_words[:100]\n",
    "words_to_exclude = most_common+stop\n",
    "words_to_exclude = list(dict.fromkeys(words_to_exclude))"
   ]
  },
  {
   "cell_type": "code",
   "execution_count": 16,
   "metadata": {},
   "outputs": [],
   "source": [
    "#we remove them and form a new column which contains the \"clean\" text\n",
    "df['sentence_clean'] = df['sentence'].apply(lambda x: ' '.join([word for word in x.split() if word not in (words_to_exclude)]))"
   ]
  },
  {
   "cell_type": "code",
   "execution_count": 17,
   "metadata": {},
   "outputs": [
    {
     "data": {
      "text/html": [
       "<div>\n",
       "<style scoped>\n",
       "    .dataframe tbody tr th:only-of-type {\n",
       "        vertical-align: middle;\n",
       "    }\n",
       "\n",
       "    .dataframe tbody tr th {\n",
       "        vertical-align: top;\n",
       "    }\n",
       "\n",
       "    .dataframe thead th {\n",
       "        text-align: right;\n",
       "    }\n",
       "</style>\n",
       "<table border=\"1\" class=\"dataframe\">\n",
       "  <thead>\n",
       "    <tr style=\"text-align: right;\">\n",
       "      <th></th>\n",
       "      <th>label</th>\n",
       "      <th>sentence_clean</th>\n",
       "    </tr>\n",
       "  </thead>\n",
       "  <tbody>\n",
       "    <tr>\n",
       "      <th>0</th>\n",
       "      <td>NEITHER</td>\n",
       "      <td>concordance different amyloid immunoassays vis...</td>\n",
       "    </tr>\n",
       "    <tr>\n",
       "      <th>1</th>\n",
       "      <td>BACKGROUND</td>\n",
       "      <td>importance visual assessment amyloid positron ...</td>\n",
       "    </tr>\n",
       "    <tr>\n",
       "      <th>2</th>\n",
       "      <td>BACKGROUND</td>\n",
       "      <td>several immunoassays developed measure β-amylo...</td>\n",
       "    </tr>\n",
       "    <tr>\n",
       "      <th>3</th>\n",
       "      <td>BACKGROUND</td>\n",
       "      <td>agreement csf aβ42 measures different immunoas...</td>\n",
       "    </tr>\n",
       "    <tr>\n",
       "      <th>4</th>\n",
       "      <td>OBJECTIVE</td>\n",
       "      <td>objective determine concordance csf aβ42 level...</td>\n",
       "    </tr>\n",
       "    <tr>\n",
       "      <th>...</th>\n",
       "      <td>...</td>\n",
       "      <td>...</td>\n",
       "    </tr>\n",
       "    <tr>\n",
       "      <th>10543</th>\n",
       "      <td>METHOD</td>\n",
       "      <td>instead, sbps sample range conformations activ...</td>\n",
       "    </tr>\n",
       "    <tr>\n",
       "      <th>10544</th>\n",
       "      <td>RESULT</td>\n",
       "      <td>certain non-transported ligands leave structur...</td>\n",
       "    </tr>\n",
       "    <tr>\n",
       "      <th>10545</th>\n",
       "      <td>RESULT</td>\n",
       "      <td>intriguingly, cases, similar sbp conformations...</td>\n",
       "    </tr>\n",
       "    <tr>\n",
       "      <th>10546</th>\n",
       "      <td>RESULT</td>\n",
       "      <td>case, inability transport arises slow opening ...</td>\n",
       "    </tr>\n",
       "    <tr>\n",
       "      <th>10547</th>\n",
       "      <td>CONCLUSION</td>\n",
       "      <td>results reveal complex interplay ligand-sbp in...</td>\n",
       "    </tr>\n",
       "  </tbody>\n",
       "</table>\n",
       "<p>10548 rows × 2 columns</p>\n",
       "</div>"
      ],
      "text/plain": [
       "            label                                     sentence_clean\n",
       "0         NEITHER  concordance different amyloid immunoassays vis...\n",
       "1      BACKGROUND  importance visual assessment amyloid positron ...\n",
       "2      BACKGROUND  several immunoassays developed measure β-amylo...\n",
       "3      BACKGROUND  agreement csf aβ42 measures different immunoas...\n",
       "4       OBJECTIVE  objective determine concordance csf aβ42 level...\n",
       "...           ...                                                ...\n",
       "10543      METHOD  instead, sbps sample range conformations activ...\n",
       "10544      RESULT  certain non-transported ligands leave structur...\n",
       "10545      RESULT  intriguingly, cases, similar sbp conformations...\n",
       "10546      RESULT  case, inability transport arises slow opening ...\n",
       "10547  CONCLUSION  results reveal complex interplay ligand-sbp in...\n",
       "\n",
       "[10548 rows x 2 columns]"
      ]
     },
     "execution_count": 17,
     "metadata": {},
     "output_type": "execute_result"
    }
   ],
   "source": [
    "#we remove the older column which contained raw text\n",
    "df = df.drop(['sentence'] ,axis =1)\n",
    "df"
   ]
  },
  {
   "cell_type": "code",
   "execution_count": 18,
   "metadata": {},
   "outputs": [],
   "source": [
    "#We split our data frame into a train-validation and a test data frame.\n",
    "train_valid, test = train_test_split(df, test_size = 0.2 , random_state = 42)"
   ]
  },
  {
   "cell_type": "code",
   "execution_count": 19,
   "metadata": {},
   "outputs": [
    {
     "data": {
      "text/plain": [
       "1669    CONCLUSION\n",
       "4901     OBJECTIVE\n",
       "3229    CONCLUSION\n",
       "6522    BACKGROUND\n",
       "2513    BACKGROUND\n",
       "           ...    \n",
       "792         METHOD\n",
       "233        NEITHER\n",
       "6752    BACKGROUND\n",
       "6369    CONCLUSION\n",
       "9638     OBJECTIVE\n",
       "Name: label, Length: 2110, dtype: object"
      ]
     },
     "execution_count": 19,
     "metadata": {},
     "output_type": "execute_result"
    }
   ],
   "source": [
    "#keeping actual labels of test dataset\n",
    "y_true_test = test['label']\n",
    "y_true_test"
   ]
  },
  {
   "cell_type": "code",
   "execution_count": 20,
   "metadata": {},
   "outputs": [
    {
     "data": {
      "text/html": [
       "<div>\n",
       "<style scoped>\n",
       "    .dataframe tbody tr th:only-of-type {\n",
       "        vertical-align: middle;\n",
       "    }\n",
       "\n",
       "    .dataframe tbody tr th {\n",
       "        vertical-align: top;\n",
       "    }\n",
       "\n",
       "    .dataframe thead th {\n",
       "        text-align: right;\n",
       "    }\n",
       "</style>\n",
       "<table border=\"1\" class=\"dataframe\">\n",
       "  <thead>\n",
       "    <tr style=\"text-align: right;\">\n",
       "      <th></th>\n",
       "      <th>label</th>\n",
       "      <th>sentence_clean</th>\n",
       "    </tr>\n",
       "  </thead>\n",
       "  <tbody>\n",
       "    <tr>\n",
       "      <th>9366</th>\n",
       "      <td>RESULT</td>\n",
       "      <td>co-relation gradually emerging mutations motif...</td>\n",
       "    </tr>\n",
       "    <tr>\n",
       "      <th>6335</th>\n",
       "      <td>RESULT</td>\n",
       "      <td>approach allowed us distinguish effects salini...</td>\n",
       "    </tr>\n",
       "    <tr>\n",
       "      <th>4896</th>\n",
       "      <td>RESULT</td>\n",
       "      <td>demonstrate simple variations environmental pa...</td>\n",
       "    </tr>\n",
       "    <tr>\n",
       "      <th>7359</th>\n",
       "      <td>METHOD</td>\n",
       "      <td>test hypothesis, seasonal ensemble reforecasts...</td>\n",
       "    </tr>\n",
       "    <tr>\n",
       "      <th>2627</th>\n",
       "      <td>OBJECTIVE</td>\n",
       "      <td>report safety immunogenicity recombinant vesic...</td>\n",
       "    </tr>\n",
       "    <tr>\n",
       "      <th>...</th>\n",
       "      <td>...</td>\n",
       "      <td>...</td>\n",
       "    </tr>\n",
       "    <tr>\n",
       "      <th>5734</th>\n",
       "      <td>CONCLUSION</td>\n",
       "      <td>funding agencies|catch consortium (eu horizon ...</td>\n",
       "    </tr>\n",
       "    <tr>\n",
       "      <th>5191</th>\n",
       "      <td>OBJECTIVE</td>\n",
       "      <td>here, explore global stability properties syst...</td>\n",
       "    </tr>\n",
       "    <tr>\n",
       "      <th>5390</th>\n",
       "      <td>NEITHER</td>\n",
       "      <td>real-time assessment health-care requirements ...</td>\n",
       "    </tr>\n",
       "    <tr>\n",
       "      <th>860</th>\n",
       "      <td>NEITHER</td>\n",
       "      <td>large discrepancies summer climate change euro...</td>\n",
       "    </tr>\n",
       "    <tr>\n",
       "      <th>7270</th>\n",
       "      <td>RESULT</td>\n",
       "      <td>baseline stress mbf remained unchanged postabl...</td>\n",
       "    </tr>\n",
       "  </tbody>\n",
       "</table>\n",
       "<p>8438 rows × 2 columns</p>\n",
       "</div>"
      ],
      "text/plain": [
       "           label                                     sentence_clean\n",
       "9366      RESULT  co-relation gradually emerging mutations motif...\n",
       "6335      RESULT  approach allowed us distinguish effects salini...\n",
       "4896      RESULT  demonstrate simple variations environmental pa...\n",
       "7359      METHOD  test hypothesis, seasonal ensemble reforecasts...\n",
       "2627   OBJECTIVE  report safety immunogenicity recombinant vesic...\n",
       "...          ...                                                ...\n",
       "5734  CONCLUSION  funding agencies|catch consortium (eu horizon ...\n",
       "5191   OBJECTIVE  here, explore global stability properties syst...\n",
       "5390     NEITHER  real-time assessment health-care requirements ...\n",
       "860      NEITHER  large discrepancies summer climate change euro...\n",
       "7270      RESULT  baseline stress mbf remained unchanged postabl...\n",
       "\n",
       "[8438 rows x 2 columns]"
      ]
     },
     "execution_count": 20,
     "metadata": {},
     "output_type": "execute_result"
    }
   ],
   "source": [
    "train_valid"
   ]
  },
  {
   "cell_type": "code",
   "execution_count": 21,
   "metadata": {},
   "outputs": [],
   "source": [
    "#we split again our train-validation data frame into 2 separate data frames (train & validation)\n",
    "train, valid = train_test_split(train_valid, test_size = 0.2 , random_state = 42)"
   ]
  },
  {
   "cell_type": "code",
   "execution_count": 22,
   "metadata": {},
   "outputs": [
    {
     "data": {
      "text/plain": [
       "4876        RESULT\n",
       "2526    CONCLUSION\n",
       "2147        RESULT\n",
       "2154    CONCLUSION\n",
       "2422     OBJECTIVE\n",
       "           ...    \n",
       "3740       NEITHER\n",
       "2158    CONCLUSION\n",
       "299     CONCLUSION\n",
       "1934    BACKGROUND\n",
       "9741     OBJECTIVE\n",
       "Name: label, Length: 6750, dtype: object"
      ]
     },
     "execution_count": 22,
     "metadata": {},
     "output_type": "execute_result"
    }
   ],
   "source": [
    "#keeping actual labels of train dataset\n",
    "y_true_train = train['label']\n",
    "y_true_train"
   ]
  },
  {
   "cell_type": "code",
   "execution_count": 23,
   "metadata": {},
   "outputs": [
    {
     "data": {
      "text/plain": [
       "8203        RESULT\n",
       "1362        METHOD\n",
       "5806        METHOD\n",
       "3379        METHOD\n",
       "976         METHOD\n",
       "           ...    \n",
       "9899       NEITHER\n",
       "5231       NEITHER\n",
       "7360        METHOD\n",
       "1673        METHOD\n",
       "9147    CONCLUSION\n",
       "Name: label, Length: 1688, dtype: object"
      ]
     },
     "execution_count": 23,
     "metadata": {},
     "output_type": "execute_result"
    }
   ],
   "source": [
    "#keeping actual labels of valid dataset\n",
    "y_true_valid = valid['label']\n",
    "y_true_valid"
   ]
  },
  {
   "cell_type": "code",
   "execution_count": 24,
   "metadata": {},
   "outputs": [
    {
     "name": "stderr",
     "output_type": "stream",
     "text": [
      "C:\\Users\\bandi\\anaconda3\\lib\\site-packages\\pandas\\core\\indexing.py:1783: SettingWithCopyWarning: \n",
      "A value is trying to be set on a copy of a slice from a DataFrame.\n",
      "Try using .loc[row_indexer,col_indexer] = value instead\n",
      "\n",
      "See the caveats in the documentation: https://pandas.pydata.org/pandas-docs/stable/user_guide/indexing.html#returning-a-view-versus-a-copy\n",
      "  self.obj[item_labels[indexer[info_axis]]] = value\n"
     ]
    }
   ],
   "source": [
    "#we fix the format of the label column in order to later match to the fasttext's required input format.\n",
    "train.iloc[:, 0] = train.iloc[:, 0].apply(lambda x: '__label__' + x)\n",
    "valid.iloc[:, 0] = valid.iloc[:, 0].apply(lambda x: '__label__' + x)\n",
    "test.iloc[:, 0] = test.iloc[:, 0].apply(lambda x: '__label__' + x)"
   ]
  },
  {
   "cell_type": "code",
   "execution_count": 25,
   "metadata": {},
   "outputs": [
    {
     "data": {
      "text/html": [
       "<div>\n",
       "<style scoped>\n",
       "    .dataframe tbody tr th:only-of-type {\n",
       "        vertical-align: middle;\n",
       "    }\n",
       "\n",
       "    .dataframe tbody tr th {\n",
       "        vertical-align: top;\n",
       "    }\n",
       "\n",
       "    .dataframe thead th {\n",
       "        text-align: right;\n",
       "    }\n",
       "</style>\n",
       "<table border=\"1\" class=\"dataframe\">\n",
       "  <thead>\n",
       "    <tr style=\"text-align: right;\">\n",
       "      <th></th>\n",
       "      <th>label</th>\n",
       "      <th>sentence_clean</th>\n",
       "    </tr>\n",
       "  </thead>\n",
       "  <tbody>\n",
       "    <tr>\n",
       "      <th>8203</th>\n",
       "      <td>__label__RESULT</td>\n",
       "      <td>found adjusting certain parameters, albeit wit...</td>\n",
       "    </tr>\n",
       "    <tr>\n",
       "      <th>1362</th>\n",
       "      <td>__label__METHOD</td>\n",
       "      <td>three different boundary conditions (linear, m...</td>\n",
       "    </tr>\n",
       "    <tr>\n",
       "      <th>5806</th>\n",
       "      <td>__label__METHOD</td>\n",
       "      <td>large proportion expression quantitative trait...</td>\n",
       "    </tr>\n",
       "    <tr>\n",
       "      <th>3379</th>\n",
       "      <td>__label__METHOD</td>\n",
       "      <td>collect millennial‐length simulations coupled ...</td>\n",
       "    </tr>\n",
       "    <tr>\n",
       "      <th>976</th>\n",
       "      <td>__label__METHOD</td>\n",
       "      <td>two different boundary conditions defined repr...</td>\n",
       "    </tr>\n",
       "    <tr>\n",
       "      <th>...</th>\n",
       "      <td>...</td>\n",
       "      <td>...</td>\n",
       "    </tr>\n",
       "    <tr>\n",
       "      <th>9899</th>\n",
       "      <td>__label__NEITHER</td>\n",
       "      <td>potential elastic polarization lidars retrieve...</td>\n",
       "    </tr>\n",
       "    <tr>\n",
       "      <th>5231</th>\n",
       "      <td>__label__NEITHER</td>\n",
       "      <td>equilibrium forest demography explains distrib...</td>\n",
       "    </tr>\n",
       "    <tr>\n",
       "      <th>7360</th>\n",
       "      <td>__label__METHOD</td>\n",
       "      <td>model systematic biases 2-m temperature, sea s...</td>\n",
       "    </tr>\n",
       "    <tr>\n",
       "      <th>1673</th>\n",
       "      <td>__label__METHOD</td>\n",
       "      <td>then, irradiation microwaves triggered simulta...</td>\n",
       "    </tr>\n",
       "    <tr>\n",
       "      <th>9147</th>\n",
       "      <td>__label__CONCLUSION</td>\n",
       "      <td>beneficial role melatonin dietary induced nafl...</td>\n",
       "    </tr>\n",
       "  </tbody>\n",
       "</table>\n",
       "<p>1688 rows × 2 columns</p>\n",
       "</div>"
      ],
      "text/plain": [
       "                    label                                     sentence_clean\n",
       "8203      __label__RESULT  found adjusting certain parameters, albeit wit...\n",
       "1362      __label__METHOD  three different boundary conditions (linear, m...\n",
       "5806      __label__METHOD  large proportion expression quantitative trait...\n",
       "3379      __label__METHOD  collect millennial‐length simulations coupled ...\n",
       "976       __label__METHOD  two different boundary conditions defined repr...\n",
       "...                   ...                                                ...\n",
       "9899     __label__NEITHER  potential elastic polarization lidars retrieve...\n",
       "5231     __label__NEITHER  equilibrium forest demography explains distrib...\n",
       "7360      __label__METHOD  model systematic biases 2-m temperature, sea s...\n",
       "1673      __label__METHOD  then, irradiation microwaves triggered simulta...\n",
       "9147  __label__CONCLUSION  beneficial role melatonin dietary induced nafl...\n",
       "\n",
       "[1688 rows x 2 columns]"
      ]
     },
     "execution_count": 25,
     "metadata": {},
     "output_type": "execute_result"
    }
   ],
   "source": [
    "valid"
   ]
  },
  {
   "cell_type": "code",
   "execution_count": 26,
   "metadata": {},
   "outputs": [
    {
     "name": "stderr",
     "output_type": "stream",
     "text": [
      "<ipython-input-26-cb2e4ad954e8>:3: SettingWithCopyWarning: \n",
      "A value is trying to be set on a copy of a slice from a DataFrame.\n",
      "Try using .loc[row_indexer,col_indexer] = value instead\n",
      "\n",
      "See the caveats in the documentation: https://pandas.pydata.org/pandas-docs/stable/user_guide/indexing.html#returning-a-view-versus-a-copy\n",
      "  train[\"fasttext\"] = train[\"sentence_clean\"] + ' ' + train[\"label\"]\n"
     ]
    },
    {
     "data": {
      "text/html": [
       "<div>\n",
       "<style scoped>\n",
       "    .dataframe tbody tr th:only-of-type {\n",
       "        vertical-align: middle;\n",
       "    }\n",
       "\n",
       "    .dataframe tbody tr th {\n",
       "        vertical-align: top;\n",
       "    }\n",
       "\n",
       "    .dataframe thead th {\n",
       "        text-align: right;\n",
       "    }\n",
       "</style>\n",
       "<table border=\"1\" class=\"dataframe\">\n",
       "  <thead>\n",
       "    <tr style=\"text-align: right;\">\n",
       "      <th></th>\n",
       "      <th>fasttext</th>\n",
       "    </tr>\n",
       "  </thead>\n",
       "  <tbody>\n",
       "    <tr>\n",
       "      <th>4876</th>\n",
       "      <td>also estimate minimum number virions produced ...</td>\n",
       "    </tr>\n",
       "    <tr>\n",
       "      <th>2526</th>\n",
       "      <td>ensemble-based computational methods based str...</td>\n",
       "    </tr>\n",
       "    <tr>\n",
       "      <th>2147</th>\n",
       "      <td>64%, p &lt;0 001) ohe development (35% vs __label...</td>\n",
       "    </tr>\n",
       "    <tr>\n",
       "      <th>2154</th>\n",
       "      <td>results support clinical use total cross-secti...</td>\n",
       "    </tr>\n",
       "    <tr>\n",
       "      <th>2422</th>\n",
       "      <td>latest findings demonstrate cell cycle progres...</td>\n",
       "    </tr>\n",
       "    <tr>\n",
       "      <th>...</th>\n",
       "      <td>...</td>\n",
       "    </tr>\n",
       "    <tr>\n",
       "      <th>3740</th>\n",
       "      <td>trends gpcr drug discovery: new agents, target...</td>\n",
       "    </tr>\n",
       "    <tr>\n",
       "      <th>2158</th>\n",
       "      <td>825694) cellex foundation __label__CONCLUSION</td>\n",
       "    </tr>\n",
       "    <tr>\n",
       "      <th>299</th>\n",
       "      <td>calculations confirm active role bridge plays ...</td>\n",
       "    </tr>\n",
       "    <tr>\n",
       "      <th>1934</th>\n",
       "      <td>introduction: within-person trajectories cereb...</td>\n",
       "    </tr>\n",
       "    <tr>\n",
       "      <th>9741</th>\n",
       "      <td>updraft velocities (index agreement 0 64 vs 0 ...</td>\n",
       "    </tr>\n",
       "  </tbody>\n",
       "</table>\n",
       "<p>6750 rows × 1 columns</p>\n",
       "</div>"
      ],
      "text/plain": [
       "                                               fasttext\n",
       "4876  also estimate minimum number virions produced ...\n",
       "2526  ensemble-based computational methods based str...\n",
       "2147  64%, p <0 001) ohe development (35% vs __label...\n",
       "2154  results support clinical use total cross-secti...\n",
       "2422  latest findings demonstrate cell cycle progres...\n",
       "...                                                 ...\n",
       "3740  trends gpcr drug discovery: new agents, target...\n",
       "2158      825694) cellex foundation __label__CONCLUSION\n",
       "299   calculations confirm active role bridge plays ...\n",
       "1934  introduction: within-person trajectories cereb...\n",
       "9741  updraft velocities (index agreement 0 64 vs 0 ...\n",
       "\n",
       "[6750 rows x 1 columns]"
      ]
     },
     "execution_count": 26,
     "metadata": {},
     "output_type": "execute_result"
    }
   ],
   "source": [
    "#for the train dataset\n",
    "#we combine the 2 columns into a new column which is required for the fasttext input format\n",
    "train[\"fasttext\"] = train[\"sentence_clean\"] + ' ' + train[\"label\"]\n",
    "#we drop the 2 older columns\n",
    "train = train.drop(['sentence_clean'],axis =1)\n",
    "train = train.drop(['label'],axis =1)\n",
    "train"
   ]
  },
  {
   "cell_type": "code",
   "execution_count": 27,
   "metadata": {},
   "outputs": [
    {
     "name": "stderr",
     "output_type": "stream",
     "text": [
      "<ipython-input-27-bcb033600201>:3: SettingWithCopyWarning: \n",
      "A value is trying to be set on a copy of a slice from a DataFrame.\n",
      "Try using .loc[row_indexer,col_indexer] = value instead\n",
      "\n",
      "See the caveats in the documentation: https://pandas.pydata.org/pandas-docs/stable/user_guide/indexing.html#returning-a-view-versus-a-copy\n",
      "  valid[\"fasttext\"] = valid[\"sentence_clean\"] + ' ' + valid[\"label\"]\n"
     ]
    },
    {
     "data": {
      "text/html": [
       "<div>\n",
       "<style scoped>\n",
       "    .dataframe tbody tr th:only-of-type {\n",
       "        vertical-align: middle;\n",
       "    }\n",
       "\n",
       "    .dataframe tbody tr th {\n",
       "        vertical-align: top;\n",
       "    }\n",
       "\n",
       "    .dataframe thead th {\n",
       "        text-align: right;\n",
       "    }\n",
       "</style>\n",
       "<table border=\"1\" class=\"dataframe\">\n",
       "  <thead>\n",
       "    <tr style=\"text-align: right;\">\n",
       "      <th></th>\n",
       "      <th>fasttext</th>\n",
       "    </tr>\n",
       "  </thead>\n",
       "  <tbody>\n",
       "    <tr>\n",
       "      <th>8203</th>\n",
       "      <td>found adjusting certain parameters, albeit wit...</td>\n",
       "    </tr>\n",
       "    <tr>\n",
       "      <th>1362</th>\n",
       "      <td>three different boundary conditions (linear, m...</td>\n",
       "    </tr>\n",
       "    <tr>\n",
       "      <th>5806</th>\n",
       "      <td>large proportion expression quantitative trait...</td>\n",
       "    </tr>\n",
       "    <tr>\n",
       "      <th>3379</th>\n",
       "      <td>collect millennial‐length simulations coupled ...</td>\n",
       "    </tr>\n",
       "    <tr>\n",
       "      <th>976</th>\n",
       "      <td>two different boundary conditions defined repr...</td>\n",
       "    </tr>\n",
       "    <tr>\n",
       "      <th>...</th>\n",
       "      <td>...</td>\n",
       "    </tr>\n",
       "    <tr>\n",
       "      <th>9899</th>\n",
       "      <td>potential elastic polarization lidars retrieve...</td>\n",
       "    </tr>\n",
       "    <tr>\n",
       "      <th>5231</th>\n",
       "      <td>equilibrium forest demography explains distrib...</td>\n",
       "    </tr>\n",
       "    <tr>\n",
       "      <th>7360</th>\n",
       "      <td>model systematic biases 2-m temperature, sea s...</td>\n",
       "    </tr>\n",
       "    <tr>\n",
       "      <th>1673</th>\n",
       "      <td>then, irradiation microwaves triggered simulta...</td>\n",
       "    </tr>\n",
       "    <tr>\n",
       "      <th>9147</th>\n",
       "      <td>beneficial role melatonin dietary induced nafl...</td>\n",
       "    </tr>\n",
       "  </tbody>\n",
       "</table>\n",
       "<p>1688 rows × 1 columns</p>\n",
       "</div>"
      ],
      "text/plain": [
       "                                               fasttext\n",
       "8203  found adjusting certain parameters, albeit wit...\n",
       "1362  three different boundary conditions (linear, m...\n",
       "5806  large proportion expression quantitative trait...\n",
       "3379  collect millennial‐length simulations coupled ...\n",
       "976   two different boundary conditions defined repr...\n",
       "...                                                 ...\n",
       "9899  potential elastic polarization lidars retrieve...\n",
       "5231  equilibrium forest demography explains distrib...\n",
       "7360  model systematic biases 2-m temperature, sea s...\n",
       "1673  then, irradiation microwaves triggered simulta...\n",
       "9147  beneficial role melatonin dietary induced nafl...\n",
       "\n",
       "[1688 rows x 1 columns]"
      ]
     },
     "execution_count": 27,
     "metadata": {},
     "output_type": "execute_result"
    }
   ],
   "source": [
    "#for the validation dataset\n",
    "#we combine the 2 columns into a new column which is required for the fasttext input format\n",
    "valid[\"fasttext\"] = valid[\"sentence_clean\"] + ' ' + valid[\"label\"]\n",
    "#we drop the 2 older columns\n",
    "valid = valid.drop(['sentence_clean'],axis =1)\n",
    "valid = valid.drop(['label'],axis =1)\n",
    "valid"
   ]
  },
  {
   "cell_type": "code",
   "execution_count": 28,
   "metadata": {},
   "outputs": [
    {
     "name": "stderr",
     "output_type": "stream",
     "text": [
      "<ipython-input-28-60bede269d5c>:3: SettingWithCopyWarning: \n",
      "A value is trying to be set on a copy of a slice from a DataFrame.\n",
      "Try using .loc[row_indexer,col_indexer] = value instead\n",
      "\n",
      "See the caveats in the documentation: https://pandas.pydata.org/pandas-docs/stable/user_guide/indexing.html#returning-a-view-versus-a-copy\n",
      "  test[\"fasttext\"] = test[\"sentence_clean\"] + ' ' + test[\"label\"]\n"
     ]
    },
    {
     "data": {
      "text/html": [
       "<div>\n",
       "<style scoped>\n",
       "    .dataframe tbody tr th:only-of-type {\n",
       "        vertical-align: middle;\n",
       "    }\n",
       "\n",
       "    .dataframe tbody tr th {\n",
       "        vertical-align: top;\n",
       "    }\n",
       "\n",
       "    .dataframe thead th {\n",
       "        text-align: right;\n",
       "    }\n",
       "</style>\n",
       "<table border=\"1\" class=\"dataframe\">\n",
       "  <thead>\n",
       "    <tr style=\"text-align: right;\">\n",
       "      <th></th>\n",
       "      <th>fasttext</th>\n",
       "    </tr>\n",
       "  </thead>\n",
       "  <tbody>\n",
       "    <tr>\n",
       "      <th>1669</th>\n",
       "      <td>conclusion, data indicate metformin glycinate ...</td>\n",
       "    </tr>\n",
       "    <tr>\n",
       "      <th>4901</th>\n",
       "      <td>previously identified increased autoantibody l...</td>\n",
       "    </tr>\n",
       "    <tr>\n",
       "      <th>3229</th>\n",
       "      <td>view high structural rigidity efficient isomer...</td>\n",
       "    </tr>\n",
       "    <tr>\n",
       "      <th>6522</th>\n",
       "      <td>intergovernmental panel climate change (ipcc) ...</td>\n",
       "    </tr>\n",
       "    <tr>\n",
       "      <th>2513</th>\n",
       "      <td>transitions literature far, however, featured ...</td>\n",
       "    </tr>\n",
       "    <tr>\n",
       "      <th>...</th>\n",
       "      <td>...</td>\n",
       "    </tr>\n",
       "    <tr>\n",
       "      <th>792</th>\n",
       "      <td>position storm’s track relative sst-front impo...</td>\n",
       "    </tr>\n",
       "    <tr>\n",
       "      <th>233</th>\n",
       "      <td>chromophore activation α,β-unsaturated carbony...</td>\n",
       "    </tr>\n",
       "    <tr>\n",
       "      <th>6752</th>\n",
       "      <td>classical structural biology provide static sn...</td>\n",
       "    </tr>\n",
       "    <tr>\n",
       "      <th>6369</th>\n",
       "      <td>novel therapeutic agents development expected ...</td>\n",
       "    </tr>\n",
       "    <tr>\n",
       "      <th>9638</th>\n",
       "      <td>due autoconversion accretion polluted conditio...</td>\n",
       "    </tr>\n",
       "  </tbody>\n",
       "</table>\n",
       "<p>2110 rows × 1 columns</p>\n",
       "</div>"
      ],
      "text/plain": [
       "                                               fasttext\n",
       "1669  conclusion, data indicate metformin glycinate ...\n",
       "4901  previously identified increased autoantibody l...\n",
       "3229  view high structural rigidity efficient isomer...\n",
       "6522  intergovernmental panel climate change (ipcc) ...\n",
       "2513  transitions literature far, however, featured ...\n",
       "...                                                 ...\n",
       "792   position storm’s track relative sst-front impo...\n",
       "233   chromophore activation α,β-unsaturated carbony...\n",
       "6752  classical structural biology provide static sn...\n",
       "6369  novel therapeutic agents development expected ...\n",
       "9638  due autoconversion accretion polluted conditio...\n",
       "\n",
       "[2110 rows x 1 columns]"
      ]
     },
     "execution_count": 28,
     "metadata": {},
     "output_type": "execute_result"
    }
   ],
   "source": [
    "#for the test dataset\n",
    "#we combine the 2 columns into a new column which is required for the fasttext input format\n",
    "test[\"fasttext\"] = test[\"sentence_clean\"] + ' ' + test[\"label\"]\n",
    "#we drop the 2 older columns\n",
    "test = test.drop(['sentence_clean'],axis =1)\n",
    "test = test.drop(['label'],axis =1)\n",
    "test"
   ]
  },
  {
   "cell_type": "code",
   "execution_count": 29,
   "metadata": {},
   "outputs": [],
   "source": [
    "import numpy as np"
   ]
  },
  {
   "cell_type": "code",
   "execution_count": 30,
   "metadata": {},
   "outputs": [],
   "source": [
    "#we produce a .txt file from the test dataset which will be later used as test input in our fasttext model\n",
    "test.to_csv('test2.txt', index = False, header = False, quotechar = \" \", escapechar = \"\")"
   ]
  },
  {
   "cell_type": "code",
   "execution_count": 31,
   "metadata": {},
   "outputs": [],
   "source": [
    "#we produce a .txt file from the train dataset which will be later used as train input in our fasttext model\n",
    "train.to_csv('train2.txt', index = False, header = False, quotechar = \" \", escapechar = \"\")"
   ]
  },
  {
   "cell_type": "code",
   "execution_count": 32,
   "metadata": {},
   "outputs": [],
   "source": [
    "#we produce a .txt file from the validation dataset which will be later used as validation input in our fasttext model\n",
    "valid.to_csv('valid2.txt', index = False, header = False, quotechar = \" \", escapechar = \"\")"
   ]
  },
  {
   "cell_type": "code",
   "execution_count": 33,
   "metadata": {},
   "outputs": [],
   "source": [
    "import fasttext"
   ]
  },
  {
   "cell_type": "code",
   "execution_count": 34,
   "metadata": {},
   "outputs": [],
   "source": [
    "### WE USED DIFFERENT PARAMETERS AND TRIED MANY OPTIONS WITH THE SUPERVISED TRAINING MODEL."
   ]
  },
  {
   "cell_type": "code",
   "execution_count": 35,
   "metadata": {},
   "outputs": [],
   "source": [
    "#We train our model\n",
    "model = fasttext.train_supervised(input=\"train2.txt\")"
   ]
  },
  {
   "cell_type": "code",
   "execution_count": 36,
   "metadata": {},
   "outputs": [
    {
     "data": {
      "text/html": [
       "<div>\n",
       "<style scoped>\n",
       "    .dataframe tbody tr th:only-of-type {\n",
       "        vertical-align: middle;\n",
       "    }\n",
       "\n",
       "    .dataframe tbody tr th {\n",
       "        vertical-align: top;\n",
       "    }\n",
       "\n",
       "    .dataframe thead th {\n",
       "        text-align: right;\n",
       "    }\n",
       "</style>\n",
       "<table border=\"1\" class=\"dataframe\">\n",
       "  <thead>\n",
       "    <tr style=\"text-align: right;\">\n",
       "      <th></th>\n",
       "      <th>sentence</th>\n",
       "      <th>label</th>\n",
       "    </tr>\n",
       "  </thead>\n",
       "  <tbody>\n",
       "    <tr>\n",
       "      <th>8203</th>\n",
       "      <td>found adjusting certain parameters, albeit wit...</td>\n",
       "      <td>RESULT</td>\n",
       "    </tr>\n",
       "    <tr>\n",
       "      <th>1362</th>\n",
       "      <td>three different boundary conditions (linear, m...</td>\n",
       "      <td>METHOD</td>\n",
       "    </tr>\n",
       "    <tr>\n",
       "      <th>5806</th>\n",
       "      <td>large proportion expression quantitative trait...</td>\n",
       "      <td>METHOD</td>\n",
       "    </tr>\n",
       "    <tr>\n",
       "      <th>3379</th>\n",
       "      <td>collect millennial‐length simulations coupled ...</td>\n",
       "      <td>METHOD</td>\n",
       "    </tr>\n",
       "    <tr>\n",
       "      <th>976</th>\n",
       "      <td>two different boundary conditions defined repr...</td>\n",
       "      <td>METHOD</td>\n",
       "    </tr>\n",
       "    <tr>\n",
       "      <th>...</th>\n",
       "      <td>...</td>\n",
       "      <td>...</td>\n",
       "    </tr>\n",
       "    <tr>\n",
       "      <th>9899</th>\n",
       "      <td>potential elastic polarization lidars retrieve...</td>\n",
       "      <td>NEITHER</td>\n",
       "    </tr>\n",
       "    <tr>\n",
       "      <th>5231</th>\n",
       "      <td>equilibrium forest demography explains distrib...</td>\n",
       "      <td>NEITHER</td>\n",
       "    </tr>\n",
       "    <tr>\n",
       "      <th>7360</th>\n",
       "      <td>model systematic biases 2-m temperature, sea s...</td>\n",
       "      <td>METHOD</td>\n",
       "    </tr>\n",
       "    <tr>\n",
       "      <th>1673</th>\n",
       "      <td>then, irradiation microwaves triggered simulta...</td>\n",
       "      <td>METHOD</td>\n",
       "    </tr>\n",
       "    <tr>\n",
       "      <th>9147</th>\n",
       "      <td>beneficial role melatonin dietary induced nafl...</td>\n",
       "      <td>CONCLUSION</td>\n",
       "    </tr>\n",
       "  </tbody>\n",
       "</table>\n",
       "<p>1688 rows × 2 columns</p>\n",
       "</div>"
      ],
      "text/plain": [
       "                                               sentence       label\n",
       "8203  found adjusting certain parameters, albeit wit...      RESULT\n",
       "1362  three different boundary conditions (linear, m...      METHOD\n",
       "5806  large proportion expression quantitative trait...      METHOD\n",
       "3379  collect millennial‐length simulations coupled ...      METHOD\n",
       "976   two different boundary conditions defined repr...      METHOD\n",
       "...                                                 ...         ...\n",
       "9899  potential elastic polarization lidars retrieve...     NEITHER\n",
       "5231  equilibrium forest demography explains distrib...     NEITHER\n",
       "7360  model systematic biases 2-m temperature, sea s...      METHOD\n",
       "1673  then, irradiation microwaves triggered simulta...      METHOD\n",
       "9147  beneficial role melatonin dietary induced nafl...  CONCLUSION\n",
       "\n",
       "[1688 rows x 2 columns]"
      ]
     },
     "execution_count": 36,
     "metadata": {},
     "output_type": "execute_result"
    }
   ],
   "source": [
    "valid[['sentence','label']] = valid[\"fasttext\"].str.split(\"__label__\",expand=True)\n",
    "valid = valid.drop(['fasttext'],axis =1)\n",
    "valid"
   ]
  },
  {
   "cell_type": "code",
   "execution_count": 37,
   "metadata": {},
   "outputs": [
    {
     "data": {
      "text/html": [
       "<div>\n",
       "<style scoped>\n",
       "    .dataframe tbody tr th:only-of-type {\n",
       "        vertical-align: middle;\n",
       "    }\n",
       "\n",
       "    .dataframe tbody tr th {\n",
       "        vertical-align: top;\n",
       "    }\n",
       "\n",
       "    .dataframe thead th {\n",
       "        text-align: right;\n",
       "    }\n",
       "</style>\n",
       "<table border=\"1\" class=\"dataframe\">\n",
       "  <thead>\n",
       "    <tr style=\"text-align: right;\">\n",
       "      <th></th>\n",
       "      <th>sentence</th>\n",
       "      <th>label</th>\n",
       "    </tr>\n",
       "  </thead>\n",
       "  <tbody>\n",
       "    <tr>\n",
       "      <th>1669</th>\n",
       "      <td>conclusion, data indicate metformin glycinate ...</td>\n",
       "      <td>CONCLUSION</td>\n",
       "    </tr>\n",
       "    <tr>\n",
       "      <th>4901</th>\n",
       "      <td>previously identified increased autoantibody l...</td>\n",
       "      <td>OBJECTIVE</td>\n",
       "    </tr>\n",
       "    <tr>\n",
       "      <th>3229</th>\n",
       "      <td>view high structural rigidity efficient isomer...</td>\n",
       "      <td>CONCLUSION</td>\n",
       "    </tr>\n",
       "    <tr>\n",
       "      <th>6522</th>\n",
       "      <td>intergovernmental panel climate change (ipcc) ...</td>\n",
       "      <td>BACKGROUND</td>\n",
       "    </tr>\n",
       "    <tr>\n",
       "      <th>2513</th>\n",
       "      <td>transitions literature far, however, featured ...</td>\n",
       "      <td>BACKGROUND</td>\n",
       "    </tr>\n",
       "    <tr>\n",
       "      <th>...</th>\n",
       "      <td>...</td>\n",
       "      <td>...</td>\n",
       "    </tr>\n",
       "    <tr>\n",
       "      <th>792</th>\n",
       "      <td>position storm’s track relative sst-front impo...</td>\n",
       "      <td>METHOD</td>\n",
       "    </tr>\n",
       "    <tr>\n",
       "      <th>233</th>\n",
       "      <td>chromophore activation α,β-unsaturated carbony...</td>\n",
       "      <td>NEITHER</td>\n",
       "    </tr>\n",
       "    <tr>\n",
       "      <th>6752</th>\n",
       "      <td>classical structural biology provide static sn...</td>\n",
       "      <td>BACKGROUND</td>\n",
       "    </tr>\n",
       "    <tr>\n",
       "      <th>6369</th>\n",
       "      <td>novel therapeutic agents development expected ...</td>\n",
       "      <td>CONCLUSION</td>\n",
       "    </tr>\n",
       "    <tr>\n",
       "      <th>9638</th>\n",
       "      <td>due autoconversion accretion polluted conditions</td>\n",
       "      <td>OBJECTIVE</td>\n",
       "    </tr>\n",
       "  </tbody>\n",
       "</table>\n",
       "<p>2110 rows × 2 columns</p>\n",
       "</div>"
      ],
      "text/plain": [
       "                                               sentence       label\n",
       "1669  conclusion, data indicate metformin glycinate ...  CONCLUSION\n",
       "4901  previously identified increased autoantibody l...   OBJECTIVE\n",
       "3229  view high structural rigidity efficient isomer...  CONCLUSION\n",
       "6522  intergovernmental panel climate change (ipcc) ...  BACKGROUND\n",
       "2513  transitions literature far, however, featured ...  BACKGROUND\n",
       "...                                                 ...         ...\n",
       "792   position storm’s track relative sst-front impo...      METHOD\n",
       "233   chromophore activation α,β-unsaturated carbony...     NEITHER\n",
       "6752  classical structural biology provide static sn...  BACKGROUND\n",
       "6369  novel therapeutic agents development expected ...  CONCLUSION\n",
       "9638  due autoconversion accretion polluted conditions    OBJECTIVE\n",
       "\n",
       "[2110 rows x 2 columns]"
      ]
     },
     "execution_count": 37,
     "metadata": {},
     "output_type": "execute_result"
    }
   ],
   "source": [
    "test[['sentence','label']] = test[\"fasttext\"].str.split(\"__label__\",expand=True)\n",
    "test = test.drop(['fasttext'],axis =1)\n",
    "test"
   ]
  },
  {
   "cell_type": "code",
   "execution_count": 38,
   "metadata": {},
   "outputs": [
    {
     "data": {
      "text/plain": [
       "8203        __label__RESULT\n",
       "1362        __label__RESULT\n",
       "5806        __label__RESULT\n",
       "3379        __label__RESULT\n",
       "976      __label__OBJECTIVE\n",
       "               ...         \n",
       "9899    __label__BACKGROUND\n",
       "5231        __label__RESULT\n",
       "7360        __label__RESULT\n",
       "1673        __label__RESULT\n",
       "9147        __label__RESULT\n",
       "Name: sentence, Length: 1688, dtype: object"
      ]
     },
     "execution_count": 38,
     "metadata": {},
     "output_type": "execute_result"
    }
   ],
   "source": [
    "valid_sentences = valid[\"sentence\"].apply(lambda s: \" \".join(s.split()))\n",
    "valid_sentences = valid_sentences.apply(lambda s: model.predict(s)[0][0])\n",
    "valid_sentences"
   ]
  },
  {
   "cell_type": "code",
   "execution_count": 39,
   "metadata": {},
   "outputs": [
    {
     "data": {
      "text/plain": [
       "8203        RESULT\n",
       "1362        RESULT\n",
       "5806        RESULT\n",
       "3379        RESULT\n",
       "976      OBJECTIVE\n",
       "           ...    \n",
       "9899    BACKGROUND\n",
       "5231        RESULT\n",
       "7360        RESULT\n",
       "1673        RESULT\n",
       "9147        RESULT\n",
       "Name: sentence, Length: 1688, dtype: object"
      ]
     },
     "execution_count": 39,
     "metadata": {},
     "output_type": "execute_result"
    }
   ],
   "source": [
    "y_pred_valid = valid_sentences.str.replace('__label__','')\n",
    "y_pred_valid"
   ]
  },
  {
   "cell_type": "code",
   "execution_count": 40,
   "metadata": {},
   "outputs": [
    {
     "data": {
      "text/plain": [
       "1669        __label__RESULT\n",
       "4901        __label__RESULT\n",
       "3229    __label__BACKGROUND\n",
       "6522        __label__RESULT\n",
       "2513    __label__BACKGROUND\n",
       "               ...         \n",
       "792     __label__BACKGROUND\n",
       "233     __label__BACKGROUND\n",
       "6752    __label__BACKGROUND\n",
       "6369    __label__CONCLUSION\n",
       "9638     __label__OBJECTIVE\n",
       "Name: sentence, Length: 2110, dtype: object"
      ]
     },
     "execution_count": 40,
     "metadata": {},
     "output_type": "execute_result"
    }
   ],
   "source": [
    "test_sentences = test[\"sentence\"].apply(lambda s: \" \".join(s.split()))\n",
    "test_sentences = test_sentences.apply(lambda s: model.predict(s)[0][0])\n",
    "test_sentences"
   ]
  },
  {
   "cell_type": "code",
   "execution_count": 41,
   "metadata": {},
   "outputs": [
    {
     "data": {
      "text/plain": [
       "1669        RESULT\n",
       "4901        RESULT\n",
       "3229    BACKGROUND\n",
       "6522        RESULT\n",
       "2513    BACKGROUND\n",
       "           ...    \n",
       "792     BACKGROUND\n",
       "233     BACKGROUND\n",
       "6752    BACKGROUND\n",
       "6369    CONCLUSION\n",
       "9638     OBJECTIVE\n",
       "Name: sentence, Length: 2110, dtype: object"
      ]
     },
     "execution_count": 41,
     "metadata": {},
     "output_type": "execute_result"
    }
   ],
   "source": [
    "y_pred_test = test_sentences.str.replace('__label__','')\n",
    "y_pred_test"
   ]
  },
  {
   "cell_type": "code",
   "execution_count": 42,
   "metadata": {},
   "outputs": [],
   "source": [
    "target_names = ['RESULT', 'BACKGROUND', 'OBJECTIVE','CONCLUSION', 'METHOD', 'NEITHER']"
   ]
  },
  {
   "cell_type": "code",
   "execution_count": 43,
   "metadata": {},
   "outputs": [],
   "source": [
    "from sklearn.metrics import confusion_matrix\n",
    "from sklearn.metrics import classification_report"
   ]
  },
  {
   "cell_type": "code",
   "execution_count": 44,
   "metadata": {},
   "outputs": [
    {
     "data": {
      "text/plain": [
       "8203        RESULT\n",
       "1362        METHOD\n",
       "5806        METHOD\n",
       "3379        METHOD\n",
       "976         METHOD\n",
       "           ...    \n",
       "9899       NEITHER\n",
       "5231       NEITHER\n",
       "7360        METHOD\n",
       "1673        METHOD\n",
       "9147    CONCLUSION\n",
       "Name: label, Length: 1688, dtype: object"
      ]
     },
     "execution_count": 44,
     "metadata": {},
     "output_type": "execute_result"
    }
   ],
   "source": [
    "y_true_valid = y_true_valid.str.replace('__label__','')\n",
    "y_true_valid"
   ]
  },
  {
   "cell_type": "code",
   "execution_count": 45,
   "metadata": {},
   "outputs": [
    {
     "data": {
      "text/plain": [
       "1669    CONCLUSION\n",
       "4901     OBJECTIVE\n",
       "3229    CONCLUSION\n",
       "6522    BACKGROUND\n",
       "2513    BACKGROUND\n",
       "           ...    \n",
       "792         METHOD\n",
       "233        NEITHER\n",
       "6752    BACKGROUND\n",
       "6369    CONCLUSION\n",
       "9638     OBJECTIVE\n",
       "Name: label, Length: 2110, dtype: object"
      ]
     },
     "execution_count": 45,
     "metadata": {},
     "output_type": "execute_result"
    }
   ],
   "source": [
    "y_true_test = y_true_test.str.replace('__label__','')\n",
    "y_true_test"
   ]
  },
  {
   "cell_type": "code",
   "execution_count": 46,
   "metadata": {},
   "outputs": [
    {
     "name": "stdout",
     "output_type": "stream",
     "text": [
      "validation dataset\n",
      "              precision    recall  f1-score   support\n",
      "\n",
      "      RESULT       0.46      0.77      0.58       434\n",
      "  BACKGROUND       0.39      0.51      0.44       343\n",
      "   OBJECTIVE       0.45      0.59      0.51       303\n",
      "  CONCLUSION       0.44      0.21      0.28       199\n",
      "      METHOD       1.00      0.01      0.02       246\n",
      "     NEITHER       0.30      0.06      0.10       163\n",
      "\n",
      "    accuracy                           0.44      1688\n",
      "   macro avg       0.51      0.36      0.32      1688\n",
      "weighted avg       0.51      0.44      0.38      1688\n",
      "\n"
     ]
    }
   ],
   "source": [
    "#FOR VALIDATION DATASET\n",
    "print('validation dataset')\n",
    "print(classification_report(y_true_valid, y_pred_valid, labels=target_names))"
   ]
  },
  {
   "cell_type": "code",
   "execution_count": 47,
   "metadata": {},
   "outputs": [],
   "source": [
    "#By default, fastText sees each training example only five times during training, which is pretty small, \n",
    "#given that our training set only have 20.5k training examples.\n",
    "#The number of times each examples is seen (also known as the number of epochs), can be increased using the -epoch option:"
   ]
  },
  {
   "cell_type": "code",
   "execution_count": 48,
   "metadata": {},
   "outputs": [],
   "source": [
    "#We train our model again implemeting hyper parameter tunning (epochs)\n",
    "model_2 = fasttext.train_supervised(input=\"train2.txt\", epoch=18)"
   ]
  },
  {
   "cell_type": "code",
   "execution_count": 49,
   "metadata": {},
   "outputs": [
    {
     "name": "stdout",
     "output_type": "stream",
     "text": [
      "validation dataset\n",
      "              precision    recall  f1-score   support\n",
      "\n",
      "      RESULT       0.58      0.61      0.59       434\n",
      "  BACKGROUND       0.59      0.60      0.59       343\n",
      "   OBJECTIVE       0.53      0.54      0.54       303\n",
      "  CONCLUSION       0.45      0.34      0.39       199\n",
      "      METHOD       0.42      0.55      0.48       246\n",
      "     NEITHER       0.58      0.34      0.43       163\n",
      "\n",
      "    accuracy                           0.53      1688\n",
      "   macro avg       0.52      0.50      0.50      1688\n",
      "weighted avg       0.53      0.53      0.53      1688\n",
      "\n"
     ]
    }
   ],
   "source": [
    "valid_sentences = valid[\"sentence\"].apply(lambda s: \" \".join(s.split()))\n",
    "valid_sentences = valid_sentences.apply(lambda s: model_2.predict(s)[0][0])\n",
    "y_pred_valid = valid_sentences.str.replace('__label__','')\n",
    "#FOR VALIDATION DATASET\n",
    "print('validation dataset')\n",
    "print(classification_report(y_true_valid, y_pred_valid, labels=target_names))\n"
   ]
  },
  {
   "cell_type": "code",
   "execution_count": 50,
   "metadata": {},
   "outputs": [],
   "source": [
    "#epoch's increment does seem to make our model better (f1 score is increased , accuracy 0.43 -> 0.52)\n",
    "#thus we will keep epoch = 18"
   ]
  },
  {
   "cell_type": "code",
   "execution_count": 51,
   "metadata": {},
   "outputs": [],
   "source": [
    "#Another way to change the learning speed of our model is to increase (or decrease) the learning rate of the algorithm.\n",
    "#This corresponds to how much the model changes after processing each example. \n",
    "#A learning rate of 0 would mean that the model does not change at all, and thus, does not learn anything. \n",
    "#Good values of the learning rate are in the range 0.1 - 1.0."
   ]
  },
  {
   "cell_type": "code",
   "execution_count": 52,
   "metadata": {},
   "outputs": [
    {
     "name": "stdout",
     "output_type": "stream",
     "text": [
      "validation dataset\n",
      "              precision    recall  f1-score   support\n",
      "\n",
      "      RESULT       0.59      0.58      0.59       434\n",
      "  BACKGROUND       0.57      0.59      0.58       343\n",
      "   OBJECTIVE       0.50      0.53      0.52       303\n",
      "  CONCLUSION       0.47      0.37      0.41       199\n",
      "      METHOD       0.39      0.56      0.46       246\n",
      "     NEITHER       0.57      0.33      0.41       163\n",
      "\n",
      "    accuracy                           0.52      1688\n",
      "   macro avg       0.52      0.49      0.50      1688\n",
      "weighted avg       0.53      0.52      0.52      1688\n",
      "\n"
     ]
    }
   ],
   "source": [
    "#We train our model again implemeting hyper parameter tunning (learning rate)\n",
    "model_3 = fasttext.train_supervised(input=\"train2.txt\",epoch = 18,  lr=0.5)\n",
    "valid_sentences = valid[\"sentence\"].apply(lambda s: \" \".join(s.split()))\n",
    "valid_sentences = valid_sentences.apply(lambda s: model_3.predict(s)[0][0])\n",
    "y_pred_valid = valid_sentences.str.replace('__label__','')\n",
    "#FOR VALIDATION DATASET\n",
    "print('validation dataset')\n",
    "print(classification_report(y_true_valid, y_pred_valid, labels=target_names))"
   ]
  },
  {
   "cell_type": "code",
   "execution_count": 53,
   "metadata": {},
   "outputs": [],
   "source": [
    "#learning's rate (lr) increment does not seem to make our model better (accuracy drops)\n",
    "#thus we will keep learning rate = 0.1 (by default)"
   ]
  },
  {
   "cell_type": "code",
   "execution_count": 54,
   "metadata": {},
   "outputs": [],
   "source": [
    "#Finally, we can improve the performance of a model by using word bigrams, instead of just unigrams. \n",
    "#This is especially important for classification problems where word order is important, such as sentiment analysis."
   ]
  },
  {
   "cell_type": "code",
   "execution_count": 55,
   "metadata": {},
   "outputs": [
    {
     "name": "stdout",
     "output_type": "stream",
     "text": [
      "validation dataset\n",
      "              precision    recall  f1-score   support\n",
      "\n",
      "      RESULT       0.61      0.61      0.61       434\n",
      "  BACKGROUND       0.56      0.63      0.59       343\n",
      "   OBJECTIVE       0.62      0.52      0.56       303\n",
      "  CONCLUSION       0.47      0.27      0.34       199\n",
      "      METHOD       0.37      0.62      0.47       246\n",
      "     NEITHER       0.54      0.30      0.39       163\n",
      "\n",
      "    accuracy                           0.53      1688\n",
      "   macro avg       0.53      0.49      0.49      1688\n",
      "weighted avg       0.54      0.53      0.52      1688\n",
      "\n"
     ]
    }
   ],
   "source": [
    "#We train our model again implemeting hyper parameter tunning (wordNgrams)\n",
    "model_4 = fasttext.train_supervised(input=\"train2.txt\",wordNgrams=2, epoch = 18)\n",
    "valid_sentences = valid[\"sentence\"].apply(lambda s: \" \".join(s.split()))\n",
    "valid_sentences = valid_sentences.apply(lambda s: model_4.predict(s)[0][0])\n",
    "y_pred_valid = valid_sentences.str.replace('__label__','')\n",
    "#FOR VALIDATION DATASET\n",
    "print('validation dataset')\n",
    "print(classification_report(y_true_valid, y_pred_valid, labels=target_names))"
   ]
  },
  {
   "cell_type": "code",
   "execution_count": 56,
   "metadata": {},
   "outputs": [],
   "source": [
    "#wordNgrams increment does not make our model better, it produces similar results"
   ]
  },
  {
   "cell_type": "code",
   "execution_count": 57,
   "metadata": {},
   "outputs": [
    {
     "name": "stdout",
     "output_type": "stream",
     "text": [
      "validation dataset\n",
      "              precision    recall  f1-score   support\n",
      "\n",
      "      RESULT       0.58      0.64      0.61       434\n",
      "  BACKGROUND       0.57      0.60      0.59       343\n",
      "   OBJECTIVE       0.53      0.55      0.54       303\n",
      "  CONCLUSION       0.47      0.35      0.40       199\n",
      "      METHOD       0.45      0.54      0.49       246\n",
      "     NEITHER       0.64      0.36      0.46       163\n",
      "\n",
      "    accuracy                           0.54      1688\n",
      "   macro avg       0.54      0.51      0.52      1688\n",
      "weighted avg       0.55      0.54      0.54      1688\n",
      "\n"
     ]
    }
   ],
   "source": [
    "#We train our model again implemeting hyper parameter tunning\n",
    "model_5 = fasttext.train_supervised(input=\"train2.txt\", loss='ova', lr=0.1, epoch=18)\n",
    "valid_sentences = valid[\"sentence\"].apply(lambda s: \" \".join(s.split()))\n",
    "valid_sentences = valid_sentences.apply(lambda s: model_5.predict(s)[0][0])\n",
    "y_pred_valid = valid_sentences.str.replace('__label__','')\n",
    "#FOR VALIDATION DATASET\n",
    "print('validation dataset')\n",
    "print(classification_report(y_true_valid, y_pred_valid, labels=target_names))"
   ]
  },
  {
   "cell_type": "code",
   "execution_count": 58,
   "metadata": {},
   "outputs": [],
   "source": [
    "#we will use model_5 in our test dataset since it produces the best accuracy and f1 scores."
   ]
  },
  {
   "cell_type": "code",
   "execution_count": 59,
   "metadata": {},
   "outputs": [
    {
     "name": "stdout",
     "output_type": "stream",
     "text": [
      "test dataset\n",
      "              precision    recall  f1-score   support\n",
      "\n",
      "      RESULT       0.60      0.69      0.64       511\n",
      "  BACKGROUND       0.53      0.62      0.57       410\n",
      "   OBJECTIVE       0.56      0.54      0.55       393\n",
      "  CONCLUSION       0.43      0.36      0.39       247\n",
      "      METHOD       0.49      0.49      0.49       338\n",
      "     NEITHER       0.60      0.41      0.49       211\n",
      "\n",
      "    accuracy                           0.55      2110\n",
      "   macro avg       0.54      0.52      0.52      2110\n",
      "weighted avg       0.55      0.55      0.54      2110\n",
      "\n"
     ]
    }
   ],
   "source": [
    "test_sentences = test[\"sentence\"].apply(lambda s: \" \".join(s.split()))\n",
    "test_sentences = test_sentences.apply(lambda s: model_5.predict(s)[0][0])\n",
    "y_pred_test = test_sentences.str.replace('__label__','')\n",
    "#FOR test DATASET\n",
    "print('test dataset')\n",
    "print(classification_report(y_true_test, y_pred_test, labels=target_names))"
   ]
  },
  {
   "cell_type": "code",
   "execution_count": 60,
   "metadata": {},
   "outputs": [],
   "source": [
    "#saving our best model\n",
    "model_5.save_model(\"fasttext_structure_final_model.bin\")"
   ]
  }
 ],
 "metadata": {
  "kernelspec": {
   "display_name": "Python 3",
   "language": "python",
   "name": "python3"
  },
  "language_info": {
   "codemirror_mode": {
    "name": "ipython",
    "version": 3
   },
   "file_extension": ".py",
   "mimetype": "text/x-python",
   "name": "python",
   "nbconvert_exporter": "python",
   "pygments_lexer": "ipython3",
   "version": "3.8.5"
  }
 },
 "nbformat": 4,
 "nbformat_minor": 4
}
